{
 "cells": [
  {
   "cell_type": "code",
   "execution_count": 1,
   "id": "5589049e",
   "metadata": {},
   "outputs": [],
   "source": [
    "import tskit\n",
    "import tszip"
   ]
  },
  {
   "cell_type": "code",
   "execution_count": 2,
   "id": "43c8b529",
   "metadata": {},
   "outputs": [],
   "source": [
    "min_time = float('inf')\n",
    "max_time = float('-inf')"
   ]
  },
  {
   "cell_type": "code",
   "execution_count": 3,
   "id": "03b145dd",
   "metadata": {},
   "outputs": [],
   "source": [
    "def new_tree_samples(tree_indexes, ts):\n",
    "\n",
    "    tree_dict = {}\n",
    "\n",
    "    for i, tree in enumerate(tree_indexes):\n",
    "        try:\n",
    "            print(\"Tree\", tree)\n",
    "            tree = ts.at_index(tree['global_index'])\n",
    "            node_ids = list(tree.nodes())\n",
    "            node_times = [ts.node(u).time for u in node_ids]\n",
    "            start_time = min(node_times)\n",
    "            end_time = -1 * max(node_times)\n",
    "            # min_time = min(min_time, end_time)\n",
    "            # max_time = max(max_time, start_time)\n",
    "            time_range = {'start': start_time, 'end': end_time}\n",
    "            tree_newick = ''\n",
    "            labels = {u: str(u) for u in node_ids}\n",
    "            if tree.num_roots != 1:\n",
    "                tree_newick = \"\".join([tree.as_newick(root=root, node_labels=labels) for root in tree.roots])\n",
    "            else:\n",
    "                tree_newick = tree.as_newick(node_labels=labels)\n",
    "            \n",
    "            tree_index = ts.at(tree.interval.left).index\n",
    "            positions = {'start': tree.interval.left, 'end': tree.interval.right}\n",
    "\n",
    "            # Mutations\n",
    "            mut_map = {}\n",
    "            for site in tree.sites():\n",
    "                ancestral = site.ancestral_state\n",
    "                pos = int(site.position)\n",
    "                for mut in site.mutations:\n",
    "                    mut_str = f\"{ancestral}{pos}{mut.derived_state}\"\n",
    "                    key = str(mut.node)\n",
    "                    mut_map.setdefault(key, []).append(mut_str)\n",
    "\n",
    "            tree_dict[i] = {\n",
    "                'newick': tree_newick,\n",
    "                'time_range': time_range,\n",
    "                'positions': positions,\n",
    "                'mutations': mut_map\n",
    "            }\n",
    "        except Exception as e:\n",
    "            print(f\"Error in new_tree_samples: {e}\")\n",
    "            continue\n",
    "    return tree_dict\n"
   ]
  },
  {
   "cell_type": "code",
   "execution_count": 4,
   "id": "5f59c116",
   "metadata": {},
   "outputs": [],
   "source": [
    "ts = tszip.load(\"../uploads/1000Genomes/1kg_chr20.trees.tsz\")"
   ]
  },
  {
   "cell_type": "code",
   "execution_count": 6,
   "id": "95bc7f85",
   "metadata": {},
   "outputs": [
    {
     "data": {
      "text/plain": [
       "63025522.0"
      ]
     },
     "execution_count": 6,
     "metadata": {},
     "output_type": "execute_result"
    }
   ],
   "source": [
    "ts.sequence_length"
   ]
  },
  {
   "cell_type": "code",
   "execution_count": null,
   "id": "829277e8",
   "metadata": {},
   "outputs": [
    {
     "name": "stdout",
     "output_type": "stream",
     "text": [
      "Tree {'index': 0, 'global_index': 0, 'position': 0}\n"
     ]
    }
   ],
   "source": [
    "data = [{'index': 0, 'global_index': 0, 'position': 0}]\n",
    "k = new_tree_samplesa(data, ts)"
   ]
  },
  {
   "cell_type": "code",
   "execution_count": null,
   "id": "41cf223c",
   "metadata": {},
   "outputs": [
    {
     "data": {
      "text/plain": [
       "5006.0"
      ]
     },
     "execution_count": 24,
     "metadata": {},
     "output_type": "execute_result"
    }
   ],
   "source": []
  },
  {
   "cell_type": "code",
   "execution_count": 25,
   "id": "f4389c84",
   "metadata": {},
   "outputs": [
    {
     "data": {
      "text/plain": [
       "0.0"
      ]
     },
     "execution_count": 25,
     "metadata": {},
     "output_type": "execute_result"
    }
   ],
   "source": [
    "ts.min_time"
   ]
  },
  {
   "cell_type": "code",
   "execution_count": null,
   "id": "6d5be5a7",
   "metadata": {},
   "outputs": [],
   "source": []
  }
 ],
 "metadata": {
  "kernelspec": {
   "display_name": "lorax",
   "language": "python",
   "name": "python3"
  },
  "language_info": {
   "codemirror_mode": {
    "name": "ipython",
    "version": 3
   },
   "file_extension": ".py",
   "mimetype": "text/x-python",
   "name": "python",
   "nbconvert_exporter": "python",
   "pygments_lexer": "ipython3",
   "version": "3.11.13"
  }
 },
 "nbformat": 4,
 "nbformat_minor": 5
}
